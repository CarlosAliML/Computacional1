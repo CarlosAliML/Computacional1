{
 "metadata": {
  "name": "",
  "signature": "sha256:960cceea795288676997c8308a141c43865eac44393fab89d0eb639eff598bd3"
 },
 "nbformat": 3,
 "nbformat_minor": 0,
 "worksheets": []
}